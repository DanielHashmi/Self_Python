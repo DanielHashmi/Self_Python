{
 "cells": [
  {
   "cell_type": "markdown",
   "id": "56db1910",
   "metadata": {},
   "source": [
    "1. **Variable Naming & Data Types:**\n",
    "Create variables with different data types (e.g., string, integer) without using them correctly or consistently\n",
    "throughout your code snippets to introduce mistakes deliberately but gently challenge yourself on proper naming\n",
    "and usage of Python's built-in datatypes (`int`, `str`, etc.). Then correct the issues for practice."
   ]
  },
  {
   "cell_type": "code",
   "execution_count": 1,
   "id": "78fb89a2",
   "metadata": {},
   "outputs": [
    {
     "name": "stdout",
     "output_type": "stream",
     "text": [
      "My name is Daniel and i'm 18 years old!\n"
     ]
    }
   ],
   "source": [
    "name:str = \"Daniel\"\n",
    "age:int = 18\n",
    "print(f\"My name is {name} and i'm {age} years old!\")"
   ]
  },
  {
   "cell_type": "markdown",
   "id": "d16e2680",
   "metadata": {},
   "source": [
    "2. **Simple Error Handling:**\n",
    "Write a script that intentionally raises exceptions, like trying to divide by zero or accessing an index out of\n",
    "range in arrays/lists, and learn how to handle these errors gracefully using try-except blocks without fixing them\n",
    "directly away from the error handler for understanding exception handling flow. Correct your mistakes afterwards\n",
    "as part of learning more about Python's OOPS concepts such as Exception Handling & Error Management (Oops Concept\n",
    "1)."
   ]
  },
  {
   "cell_type": "code",
   "execution_count": 7,
   "id": "03b8a40b",
   "metadata": {},
   "outputs": [
    {
     "name": "stdout",
     "output_type": "stream",
     "text": [
      "Error: division by zero\n",
      "1.5\n"
     ]
    }
   ],
   "source": [
    "def divide(a:int, b:int) -> int:\n",
    "    try:\n",
    "        return a / b\n",
    "    except ZeroDivisionError as e:\n",
    "        return f\"Error: {e}\"\n",
    "    except Exception as e:\n",
    "        return f\"Error: {e}\"\n",
    "    \n",
    "print(divide(3,0))\n",
    "print(divide(3,2))"
   ]
  },
  {
   "cell_type": "markdown",
   "id": "9ea98115",
   "metadata": {},
   "source": [
    "3. **Inheritance with Base Classes:**\n",
    "Create a base class and intentionally make some common errors in subclass inheritance, like incorrectly calling\n",
    "super() or misusing attributes from the parent classes to teach you about proper OOP principles such as method\n",
    "resolution order (MRO) & overriding methods (Oops Concept 4). Afterward, refactor your code for correctness."
   ]
  },
  {
   "cell_type": "code",
   "execution_count": 1,
   "id": "676906cc",
   "metadata": {},
   "outputs": [
    {
     "name": "stdout",
     "output_type": "stream",
     "text": [
      "8\n",
      "3\n",
      "4\n"
     ]
    }
   ],
   "source": [
    "class Math:\n",
    "    n = 0\n",
    "    def __init__(self, n):\n",
    "        self.n = n\n",
    "        \n",
    "    def __add__(self, a):\n",
    "        return self.n + a\n",
    "    \n",
    "    def __sub__(self, a):\n",
    "        return self.n - a\n",
    "    \n",
    "    def __mul__(self, a):\n",
    "        return self.n * a\n",
    "    \n",
    "n1 = Math(4)\n",
    "\n",
    "print(n1 + 4)\n",
    "print(n1 - 1)\n",
    "print(n1 * 1)"
   ]
  },
  {
   "cell_type": "markdown",
   "id": "eb8a6d0f",
   "metadata": {},
   "source": [
    "4. **Operator Overloading:**\n",
    "Implement a class where operators like + and - are overloaded but used incorrectly to perform arithmetic\n",
    "operations on objects of the custom type instead of simple types such as integers or strings (Oops Concept 12).\n",
    "Correct these mistakes later by applying proper operator precedence rules for Python."
   ]
  },
  {
   "cell_type": "code",
   "execution_count": null,
   "id": "f3163e64",
   "metadata": {},
   "outputs": [],
   "source": [
    "class BaseClass:\n",
    "    name:str\n",
    "    def __init__(self, name):\n",
    "        self.name = name\n",
    "\n",
    "class HumanClass(BaseClass):\n",
    "    age:int\n",
    "    def __init__(self, name, age):\n",
    "        super().__init__(name)\n",
    "        self.age = age\n",
    "\n",
    "    def i_can(self):\n",
    "        print(\"Walk!\")\n",
    "        \n",
    "class Person(HumanClass, BaseClass):\n",
    "    is_adult:bool\n",
    "    \n",
    "    def __init__(self, name, age):\n",
    "        super().__init__(name, age)\n",
    "        self.is_adult = self.age > 17\n",
    "    \n",
    "    def i_can(self):\n",
    "        print(\"Talk!\")\n",
    "        \n",
    "ayasha = Person(\"Ayasha\", 18)\n",
    "if ayasha.name:\n",
    "    print(f\"My name is {ayasha.name}!\")\n",
    "if ayasha.age:\n",
    "    print(f\"i'm {ayasha.age} years old!\")\n",
    "if ayasha.is_adult:\n",
    "    print(f\"I'm an Adult!\")\n",
    "\n",
    "ayasha.i_can()"
   ]
  },
  {
   "cell_type": "code",
   "execution_count": null,
   "id": "1a415b7f",
   "metadata": {},
   "outputs": [],
   "source": [
    "class Board:\n",
    "    def __init__(self, turn):\n",
    "        self.turn = turn\n",
    "        self.steps = 0\n",
    "        self.board = [[0, 1, 2],\n",
    "                      [3, 4, 5],\n",
    "                      [6, 7, 8]]\n",
    "        \n",
    "    def print_board(self):\n",
    "        for row in self.board:\n",
    "            print(f\"{row[0]} | {row[1]} | {row[2]}\")\n",
    "        \n",
    "    def set_player_pos(self, pos):\n",
    "        pos = int(pos)\n",
    "        col = pos % 3\n",
    "        row = pos // 3\n",
    "        \n",
    "        if isinstance(self.board[row][col], int):\n",
    "            self.board[row][col] = self.turn\n",
    "            self.steps += 1\n",
    "            return True\n",
    "        \n",
    "        print(\"Position already taken!\")\n",
    "        return False\n",
    "        \n",
    "    def check_winner(self, symbol):        \n",
    "        # Rows\n",
    "        for row in self.board:\n",
    "            if symbol == row[0] == row[1] == row[2]:\n",
    "                return symbol\n",
    "                \n",
    "        # Cols\n",
    "        for i in range(0, 3):\n",
    "            if symbol == self.board[0][i] == self.board[1][i] == self.board[2][i]:\n",
    "                return symbol\n",
    "        \n",
    "        # Diagonals\n",
    "        if symbol == self.board[0][0] == self.board[1][1] == self.board[2][2]:\n",
    "                return symbol\n",
    "        elif symbol == self.board[0][2] == self.board[1][1] == self.board[2][0]:\n",
    "                return symbol\n",
    "                \n",
    "        return None\n",
    "            \n",
    "class Player:\n",
    "    def __init__(self, symbol):\n",
    "        self.symbol = symbol\n",
    "\n",
    "class Game:\n",
    "    def play(self):\n",
    "        playerX = Player(\"X\")\n",
    "        playerO = Player(\"O\")\n",
    "        board = Board(playerX.symbol)\n",
    "        \n",
    "        while True:\n",
    "            try:\n",
    "                board.print_board()\n",
    "                pos = input(f\"Enter a position for player{board.turn}: \")\n",
    "                is_pos_set = board.set_player_pos(pos)\n",
    "                winner = board.check_winner(board.turn)\n",
    "                if winner:\n",
    "                    board.print_board()\n",
    "                    print(f\"The winner is: {winner}\")\n",
    "                    break\n",
    "                \n",
    "                if not winner and board.steps == 9:\n",
    "                    board.print_board()\n",
    "                    print(\"Tie!\")\n",
    "                    break\n",
    "                \n",
    "                if is_pos_set:\n",
    "                    if board.turn == playerX.symbol:\n",
    "                        board.turn = playerO.symbol\n",
    "                    else:\n",
    "                        board.turn = playerX.symbol\n",
    "            except ValueError:\n",
    "                print(\"Kindly enter a Number!\")\n",
    "            except Exception as e:\n",
    "                print(e)\n",
    "                \n",
    "def main():\n",
    "    game = Game()\n",
    "    game.play()\n",
    "\n",
    "if __name__ == \"__main__\":\n",
    "    main()"
   ]
  }
 ],
 "metadata": {
  "kernelspec": {
   "display_name": "Python 3",
   "language": "python",
   "name": "python3"
  },
  "language_info": {
   "codemirror_mode": {
    "name": "ipython",
    "version": 3
   },
   "file_extension": ".py",
   "mimetype": "text/x-python",
   "name": "python",
   "nbconvert_exporter": "python",
   "pygments_lexer": "ipython3",
   "version": "3.12.1"
  }
 },
 "nbformat": 4,
 "nbformat_minor": 5
}
